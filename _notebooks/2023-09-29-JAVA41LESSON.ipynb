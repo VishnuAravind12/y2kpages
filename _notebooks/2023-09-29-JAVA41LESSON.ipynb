{
 "cells": [
  {
   "cell_type": "markdown",
   "metadata": {},
   "source": [
    "---\n",
    "layout: post\n",
    "title: JAVA 1.4 AP CLASSROOM LESSON\n",
    "description: viewed\n",
    "type: hacks\n",
    "courses: {'csa': {'week': 5}}\n",
    "categories: [C4.1]\n",
    "---"
   ]
  },
  {
   "cell_type": "markdown",
   "metadata": {},
   "source": [
    "# Compound Assignment Operators\n",
    "\n",
    "look at storing items in variables with assignment statemt.\n",
    "\n",
    "also look at compound assignment operators (+=, -= etc) to modify values stored in variables in one step\n",
    "\n",
    "+= adds value to existing variable value\n",
    "\n",
    "x += 7 is equivalent to x = x + 7;\n",
    "x -= 5 is equivalent to x = x - 5;\n",
    "\n",
    "same for all compound assignment operators.\n",
    "\n",
    "# also learn how to trace through code (check comments of codeblock below)"
   ]
  },
  {
   "cell_type": "code",
   "execution_count": 4,
   "metadata": {},
   "outputs": [
    {
     "name": "stdout",
     "output_type": "stream",
     "text": [
      "10\n",
      "20\n",
      "2\n"
     ]
    }
   ],
   "source": [
    "public class CompoundDemo {\n",
    "    public static void main(String[] args) {\n",
    "        int x = 6;\n",
    "        x += 7; // 6 + 7 = 13\n",
    "        x -= 3; // 13 - 3 = 10\n",
    "        System.out.println(x);\n",
    "        x *= 10; // 10 * 10\n",
    "        x /= 5; // 100 / 5 = 20\n",
    "        System.out.println(x);\n",
    "        x %= 3; // remainder of 100/3 = 2\n",
    "        System.out.println(x);\n",
    "}\n",
    "}\n",
    "CompoundDemo.main(null);\n",
    "\n",
    "// NOTE: going through these compound assignments with comments is called tracing,\n",
    "// when we do what the compiler does, and go through the code step by step. Should be\n",
    "//done on the AP test to avoid human error."
   ]
  },
  {
   "cell_type": "markdown",
   "metadata": {},
   "source": [
    "# increment and decrement operator\n",
    "\n",
    "IMPORTANT: THE USE OF INCREMENT AND DECREMENT OPERATORS IN THE PREFIX FORM (++X) AND INSIDE OTHER EXPRESSIONS (ARR[X++]) IS OUTSIDE THE SCOPE OF THE COURSE AND THE AP EXAM"
   ]
  },
  {
   "cell_type": "code",
   "execution_count": 9,
   "metadata": {},
   "outputs": [
    {
     "name": "stdout",
     "output_type": "stream",
     "text": [
      "2\n",
      "0\n"
     ]
    }
   ],
   "source": [
    "public class incdecDemo {\n",
    "    public static void main(String[] args) {\n",
    "    int x = 1; \n",
    "    int y = 1;\n",
    "    x++; // x = x + 1, x = 2;\n",
    "    y--; // y = y - 1, y = 1 - 1 = 1;\n",
    "    System.out.println(x);\n",
    "    System.out.println(y);\n",
    "}\n",
    "}\n",
    "incdecDemo.main(null);\n",
    "\n",
    "// NOTE: going through these compound assignments in order is important to\n",
    "// ensure you get the correct output at the end"
   ]
  },
  {
   "cell_type": "markdown",
   "metadata": {},
   "source": [
    "# learn how to describe code \n",
    "\n",
    "the following code segment has comments that describe the line of code the comment is on. Look at how the code is described."
   ]
  },
  {
   "cell_type": "code",
   "execution_count": null,
   "metadata": {},
   "outputs": [],
   "source": [
    "public class behaviorDemo {\n",
    "    public static void main(String[] args) {\n",
    "    int x = 20; // define an int variable x and set its initial value to 23\n",
    "    x *= 2; // take the current value of x, multiply it by 2, assign the result back to x\n",
    "    x %= 10; // take the current value of x, find x modulus 10 (remainder x divided by 10), \n",
    "    //assign result back to x\n",
    "    System.out.println(x); // display the current value of x\n",
    "}\n",
    "}\n",
    "behaviorDemoDemo.main(null); "
   ]
  },
  {
   "cell_type": "markdown",
   "metadata": {},
   "source": [
    "# practice important concepts"
   ]
  },
  {
   "cell_type": "code",
   "execution_count": 1,
   "metadata": {},
   "outputs": [
    {
     "ename": "CompilationException",
     "evalue": "",
     "output_type": "error",
     "traceback": [
      "\u001b[1m\u001b[30m|   \u001b[1m\u001b[30m\u001b[0m\u001b[1m\u001b[30m\u001b[41mCompoundDemo\u001b[0m\u001b[1m\u001b[30m.main(null);\u001b[0m",
      "\u001b[1m\u001b[31mcannot find symbol\u001b[0m",
      "\u001b[1m\u001b[31m  symbol:   variable CompoundDemo\u001b[0m",
      ""
     ]
    }
   ],
   "source": [
    "public class numbers {\n",
    "    public static void main(String[] args) {\n",
    "        int x = 777;\n",
    "\n",
    "        // challenge: think of 2 compound assignment operators that can be used in tandem to get the following outputs\n",
    "        // example: if we wanted output of 1 with 2 compound assigment operators, using x++; and x /= 777 would work. now how would we do that for:\n",
    "        \n",
    "        // 100?\n",
    "        x /= 7;\n",
    "        x -= 11;\n",
    "\n",
    "\n",
    "        // 779?\n",
    "        \n",
    "        x += 1;\n",
    "        x += 1;\n",
    "\n",
    "        // 2?\n",
    "\n",
    "        x /= 777;\n",
    "        x++;\n",
    "\n",
    "        System.out.println(x);\n",
    "}\n",
    "}\n",
    "CompoundDemo.main(null);"
   ]
  },
  {
   "cell_type": "code",
   "execution_count": null,
   "metadata": {},
   "outputs": [],
   "source": [
    "// PRACTICE TRACING THROUGH THE FOLLOWING CODE (someone could come up and do it on a whiteboard if we have time for fun)\n",
    "\n",
    "public class Demo {\n",
    "    public static void main(String[] args) {\n",
    "        // Initialize x with the value 758\n",
    "        int x = 758; \n",
    "        \n",
    "        // Add 423 to x. New value of x = 758 + 423 = 1181\n",
    "        x += 423; \n",
    "        \n",
    "        // Subtract 137 from x. New value of x = 1181 - 137 = 1044\n",
    "        x -= 137; \n",
    "        \n",
    "        // Multiply x by 99. New value of x = 1044 * 99 = 103356\n",
    "        x *= 99; \n",
    "        \n",
    "        // Divide x by 33. New value of x = 103356 / 33 = 3132\n",
    "        x /= 33; \n",
    "        \n",
    "        // Get the remainder when x is divided by 111. New value of x = 3132 % 111 = 99\n",
    "        x %= 111; \n",
    "        \n",
    "        // Print the final value of x, which is 99\n",
    "        System.out.println(x);\n",
    "    }\n",
    "}\n",
    "\n",
    "CompoundDemo.main(null);\n"
   ]
  },
  {
   "cell_type": "code",
   "execution_count": null,
   "metadata": {},
   "outputs": [],
   "source": [
    "// DESCRIBE EACH LINE OF CODE\n",
    "int x = 5; //assigning value of 5 to int variable x\n",
    "x++;  //increment x up by 1, so x is now 6\n",
    "x /= 2;  //then x is divided by 2, and that new value is assigned to x, so now x=3\n",
    "System.out.println(x);"
   ]
  },
  {
   "cell_type": "markdown",
   "metadata": {},
   "source": [
    "# what you must know \n",
    "\n",
    "compound operators perform an operation on a variable and assign the result to the variable\n",
    "\n",
    "ex: x /= 25; would take x and divide it by 25, then assign the result to x.\n",
    "\n",
    "if x = 100, then the result of x/= 25; would be 4.\n",
    "\n",
    "increment and decrement operators take x and either increment it or decrement it by 1, then assign the value to x.\n",
    "\n",
    "x++; would take x and add 1 to it, then assign the value to x.\n",
    "\n",
    "x--; takes x and subtracts 1 from x, then assigns the value to x.\n",
    "\n",
    "### your frq will likely see if you know how to use compound operators in actual code.\n",
    "\n",
    "# mini hacks:\n",
    "\n",
    "1. write some java code that uses compound operators and then trace through it similarly to the examples shown in this lesson. Use conditional statements as well, don't just execute some compound operators on an x value in order and call it a day. You might have to do tracing on the AP test so this is for your own good.\n",
    "\n",
    "# example below"
   ]
  },
  {
   "cell_type": "code",
   "execution_count": 30,
   "metadata": {},
   "outputs": [
    {
     "name": "stdout",
     "output_type": "stream",
     "text": [
      "i: 0\n",
      "j: 0\n",
      "0\n",
      "i: 0\n",
      "j: 1\n",
      "1\n",
      "i: 1\n",
      "j: 0\n",
      "2\n",
      "i: 1\n",
      "j: 1\n",
      "4\n",
      "Sum: 4\n"
     ]
    }
   ],
   "source": [
    "public class CompoundAssignment {\n",
    "\n",
    "    public static void main(String[] args) {\n",
    "      \n",
    "      int sum = 0; \n",
    "      for (int i = 0; i < 2; i++) {  // i = i + 1 each iteration, 1st iteration i = 0\n",
    "        for (int j = 0; j < 2; j++) { // j = j + 1 each iteration, 1st iteration j = 0\n",
    "          System.out.println(\"i: \" + i);\n",
    "          System.out.println(\"j: \" + j);\n",
    "          sum += i + j; //  sum = sum + (i + j) each iteration, 1st iteration sum = 0 + (0 + 0)\n",
    "          System.out.println(sum);\n",
    "\n",
    "        }\n",
    "      }\n",
    "      \n",
    "      System.out.println(\"Sum: \" + sum);\n",
    "  \n",
    "  } }\n",
    "CompoundAssignment.main(null);"
   ]
  },
  {
   "cell_type": "code",
   "execution_count": null,
   "metadata": {},
   "outputs": [],
   "source": [
    "public class CompoundOperatorExample {\n",
    "\n",
    "    public static void main(String[] args) {\n",
    "      \n",
    "        int x = 10;\n",
    "        int y = 5;\n",
    "        int result = 0;\n",
    "\n",
    "        System.out.println(\"Initial x: \" + x);\n",
    "        System.out.println(\"Initial y: \" + y);\n",
    "        System.out.println(\"Initial result: \" + result);\n",
    "        System.out.println(\"----------\");\n",
    "\n",
    "        if (x > y) {\n",
    "            System.out.println(\"Condition (x > y) is true. Executing the block...\");\n",
    "            x -= 2;  // x = x - 2\n",
    "            System.out.println(\"Updated x (after x -= 2): \" + x);\n",
    "\n",
    "            y *= 3;  // y = y * 3\n",
    "            System.out.println(\"Updated y (after y *= 3): \" + y);\n",
    "        } else {\n",
    "            System.out.println(\"Condition (x > y) is false. Skipping the block...\");\n",
    "        }\n",
    "\n",
    "        for (int i = 0; i < 3; i++) {\n",
    "            System.out.println(\"Loop iteration with i = \" + i);\n",
    "\n",
    "            if (i % 2 == 0) {\n",
    "                System.out.println(\"Condition (i % 2 == 0) is true. Adding x to result...\");\n",
    "                result += x;  // result = result + x\n",
    "                System.out.println(\"Updated result (after result += x): \" + result);\n",
    "            } else {\n",
    "                System.out.println(\"Condition (i % 2 == 0) is false. Subtracting y from result...\");\n",
    "                result -= y;  // result = result - y\n",
    "                System.out.println(\"Updated result (after result -= y): \" + result);\n",
    "            }\n",
    "        }\n",
    "\n",
    "        System.out.println(\"----------\");\n",
    "        System.out.println(\"Final value of x: \" + x);\n",
    "        System.out.println(\"Final value of y: \" + y);\n",
    "        System.out.println(\"Final result: \" + result);\n",
    "    }\n",
    "}\n",
    "CompoundOperatorExample.main(null);"
   ]
  }
 ],
 "metadata": {
  "kernelspec": {
   "display_name": "Java",
   "language": "java",
   "name": "java"
  },
  "language_info": {
   "codemirror_mode": "java",
   "file_extension": ".jshell",
   "mimetype": "text/x-java-source",
   "name": "java",
   "pygments_lexer": "java",
   "version": "17.0.8+7-Ubuntu-120.04.2"
  },
  "orig_nbformat": 4
 },
 "nbformat": 4,
 "nbformat_minor": 2
}

{
 "cells": [
  {
   "cell_type": "markdown",
   "metadata": {},
   "source": [
    "---\n",
    "toc: true\n",
    "comments: true\n",
    "layout: post\n",
    "title: Unit 1 Lesson\n",
    "description: the lesson for the unit 1\n",
    "courses: { csa: {week: '7'} }\n",
    "type: hacks\n",
    "---"
   ]
  },
  {
   "cell_type": "markdown",
   "metadata": {},
   "source": [
    "## 1.3 Main Topics\n",
    "### Literal vs String Literal\n",
    "\n",
    "### Arithmetic operators\n",
    "- Additon\n",
    "- Minus\n",
    "- Multiply\n",
    "- Divide\n",
    "- Mod\n",
    "\n",
    "### Arthemtic expressions\n",
    "- Int\n",
    "- Double\n",
    "    \n",
    "### Assigment Operator\n",
    "- = vs ==\n",
    "\n",
    "# Demo 1"
   ]
  },
  {
   "cell_type": "code",
   "execution_count": null,
   "metadata": {},
   "outputs": [],
   "source": [
    "public class demo {\n",
    "    public static void main(String[] args) {\n",
    "        // Whats is the outputs between these two pieces of code\n",
    "        //\n",
    "        //\n",
    "        //\n",
    "        \n",
    "        /* \n",
    "        System.out.println(\"3\" + \"3\");\n",
    "        System.out.println(3 / 2);\n",
    "        System.out.println(2.0 * 1.5);\n",
    "        */\n",
    "    }\n",
    "}\n",
    "\n",
    "demo.main(null);"
   ]
  },
  {
   "cell_type": "markdown",
   "metadata": {},
   "source": [
    "# Cheat Sheet\n",
    "\n",
    "## Literal\n",
    "- The source code representation of a fixed value\n",
    "\n",
    "## String Literal\n",
    "- Something enclosed in double qoutes\n",
    "\n",
    "\n",
    "## Assigment Operator\n",
    "- = is an assigment operator\n",
    "- == is repesents just normal =\n",
    "- Assigment Operators moves right to left\n",
    "- X = Y = Z = 2;\n",
    "- Why is 7 = x; a non valid peice of code\n",
    "- \n",
    "\n",
    "## PEMDAS\n",
    "- Java uses PEMDAS still but a tiny bit different\n",
    "\n",
    "### Order\n",
    "1. ()\n",
    "2. ^\n",
    "3. *, /, %\n",
    "4. +, -\n",
    "\n",
    "## Primative Data Types\n",
    "![img](http://orion.towson.edu/~izimand/237/LectureNotes/L3-PrimitiveDataTypes.JPG)\n",
    "\n",
    "## Operation vs Result\n",
    "- The bigger data type will always be the resulting output\n",
    "- If you were to add a double and a int what would be the result?\n",
    "- \n",
    "\n",
    "# Demo 2"
   ]
  },
  {
   "cell_type": "code",
   "execution_count": null,
   "metadata": {},
   "outputs": [],
   "source": [
    "public class demo2 {\n",
    "    public static void main(String[] args) {\n",
    "        // Print a math equation that goes through these steps\n",
    "        // Adds 19 + 134\n",
    "        // Multiplies that value by 5\n",
    "        // Then takes the mod of that value by 2\n",
    "        // It should print 1\n",
    "\n",
    "        System.out.println( (19 + 134) * 5 % 2);\n",
    "    }\n",
    "}\n",
    "\n",
    "demo2.main(null);"
   ]
  },
  {
   "cell_type": "markdown",
   "metadata": {},
   "source": [
    "# Odd Even"
   ]
  },
  {
   "cell_type": "code",
   "execution_count": null,
   "metadata": {},
   "outputs": [],
   "source": [
    "public class OddEven {\n",
    "\n",
    "    // Without changing any varibles\n",
    "    // Print only odd numbers\n",
    "\n",
    "    public static void main(String[] args) {\n",
    "        int num = 2;\n",
    "        int i = 0;\n",
    "        while (i <= 10) {\n",
    "            if (i % num == 0) {\n",
    "                System.out.println(i + \" is even\");\n",
    "            }\n",
    "            i++;\n",
    "        }\n",
    "    }\n",
    "}\n",
    "\n",
    "OddEven.main(null);"
   ]
  },
  {
   "cell_type": "markdown",
   "metadata": {},
   "source": [
    "## Mini Hacks\n",
    "- Complete all uncompleted code segments\n",
    "- Answer all questions in the code\n",
    "- complete the activities in the lesson blogs\n",
    "- will be scaled to 0.2 depending on the completion of your code\n",
    "\n",
    "## Main Hack\n",
    "- Use topics from 3 out of 4 of the Units\n",
    "- It has to be a 2 part style question, A and B\n",
    "- Will Be graded out of 4 points\n",
    "- Write a scoring sheet for what you have done out six points\n",
    "- Your real grade for the assigment will be based of two things\n",
    "- How creative, unique, cool your question and code is\n",
    "- Did you acheive 4/4 points for your code\n",
    "- That will be scaled to 0.8 of 1 for all your hacks\n",
    "\n",
    "## Example FRQ 0.65\n",
    "### Question:\n",
    "Winner of the game is represented by gameWin. Player 1 score is represented by int variable x, and Player 2 score is represented by int variable y\n"
   ]
  },
  {
   "cell_type": "code",
   "execution_count": null,
   "metadata": {},
   "outputs": [],
   "source": [
    "public class Game {\n",
    "    int x = 0;\n",
    "    int y = 0;\n",
    "\n",
    "    boolean XgameWin = false;\n",
    "    boolean YgameWin = false;\n",
    "}"
   ]
  },
  {
   "cell_type": "markdown",
   "metadata": {},
   "source": [
    "# PART A\n",
    "write a method gameWinchange that checks who wins"
   ]
  },
  {
   "cell_type": "code",
   "execution_count": null,
   "metadata": {},
   "outputs": [],
   "source": [
    "public class Game {\n",
    "    int x = 0;\n",
    "    int y = 0;\n",
    "\n",
    "    boolean XgameWin = false;\n",
    "    boolean YgameWin = false;\n",
    "\n",
    "    public void gameWinchange(boolean X, boolean Y) {\n",
    "        //insert code here\n",
    "        if (X == true) {\n",
    "            UpdateScore(x,y);\n",
    "            X = true;\n",
    "        } else {\n",
    "            UpdateScore(y,x);\n",
    "            Y = true;\n",
    "        }\n",
    "    }\n",
    "}"
   ]
  },
  {
   "cell_type": "markdown",
   "metadata": {},
   "source": [
    "# Part B\n",
    "Write a method to update score for Player 1 and Player 2, The player that wins gain a point, the player that loses minus a point\n",
    "If a player hits 10 points, reset values"
   ]
  },
  {
   "cell_type": "code",
   "execution_count": null,
   "metadata": {},
   "outputs": [],
   "source": [
    "public class Game {\n",
    "    \n",
    "    private \n",
    "\n",
    "    public int UpdateScore(int Wscore, int Lscore) {\n",
    "        Wscore += 1;\n",
    "        Lscore -= 1;\n",
    "\n",
    "        if (Wscore == 10) {\n",
    "            Wscore = 0;\n",
    "            Lscore = 0;\n",
    "        }\n",
    "        if (Lscore == 10) {\n",
    "            Wscore = 0;\n",
    "            Lscore = 0;\n",
    "        }\n",
    "    }\n",
    "}"
   ]
  },
  {
   "cell_type": "markdown",
   "metadata": {},
   "source": [
    "# Grading\n",
    "1 Point for correctly changing the boolean in Part A\n",
    "1 Point for using Compound Assigment Operators in Part B\n",
    "1 Point for Values reseting when one hits 10 points\n",
    "1 Point for Passing Arguments through Part A and B"
   ]
  }
 ],
 "metadata": {
  "kernelspec": {
   "display_name": "Java",
   "language": "java",
   "name": "java"
  },
  "language_info": {
   "name": "java"
  },
  "orig_nbformat": 4
 },
 "nbformat": 4,
 "nbformat_minor": 2
}

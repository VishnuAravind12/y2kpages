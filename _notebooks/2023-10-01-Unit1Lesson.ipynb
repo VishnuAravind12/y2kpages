{
 "cells": [
  {
   "cell_type": "markdown",
   "metadata": {},
   "source": [
    "---\n",
    "toc: true\n",
    "comments: true\n",
    "layout: post\n",
    "title: Unit 1 Lesson\n",
    "description: the lesson for the unit 1\n",
    "courses: { csa: {week: '7'} }\n",
    "type: hacks\n",
    "---"
   ]
  },
  {
   "cell_type": "code",
   "execution_count": null,
   "metadata": {},
   "outputs": [],
   "source": []
  },
  {
   "cell_type": "markdown",
   "metadata": {},
   "source": [
    "## Mini Hacks\n",
    "- Complete all uncompleted code segments\n",
    "- Answer all questions in the code\n",
    "- complete the activities in the lesson blogs\n",
    "- will be scaled to 0.3 depending on the completion of your code\n",
    "\n",
    "## Main Hack\n",
    "- Use topics from 3 out of 4 of the Units\n",
    "- It has to be a 2 part style question, A and B\n",
    "- Will Be graded out of 4 points\n",
    "- Write a scoring sheet for what you have done out six points\n",
    "- Your real grade for the assigment will be based of two things\n",
    "- How creative, unique, cool your question and code is\n",
    "- Did you acheive 4/4 points for your code\n",
    "- That will be scaled to 0.7 of 1 for all your hacks\n",
    "\n",
    "## Example FRQ\n",
    "### Question:\n",
    "Winner of the game is represented by gameWin. Player 1 score is represented by int variable x, and Player 2 score is represented by int variable y\n"
   ]
  },
  {
   "cell_type": "code",
   "execution_count": null,
   "metadata": {},
   "outputs": [],
   "source": [
    "public class Game {\n",
    "    int x = 0;\n",
    "    int y = 0;\n",
    "\n",
    "    boolean gameWin = false;\n",
    "}"
   ]
  },
  {
   "cell_type": "markdown",
   "metadata": {},
   "source": [
    "# PART A\n",
    "write a method gameWinchange that sets gameWin to true"
   ]
  },
  {
   "cell_type": "code",
   "execution_count": null,
   "metadata": {},
   "outputs": [],
   "source": [
    "public class Game {\n",
    "    int x = 0;\n",
    "    int y = 0;\n",
    "\n",
    "    boolean gameWin = false;\n",
    "\n",
    "    public void gameWinchange() {\n",
    "        //insert code here\n",
    "    }\n",
    "}"
   ]
  },
  {
   "cell_type": "markdown",
   "metadata": {},
   "source": [
    "# Part B\n",
    "Write a method to update score for Player 1 and Player 2, The player that wins gain a point, the player that loses minus a point\n",
    "If a player hits 10 points, reset values"
   ]
  },
  {
   "cell_type": "code",
   "execution_count": null,
   "metadata": {},
   "outputs": [],
   "source": [
    "public class Game {\n",
    "    \n",
    "    private \n",
    "\n",
    "    public int UpdateScore(int score, int lives) {\n",
    "        //insert code here\n",
    "    }\n",
    "}"
   ]
  },
  {
   "cell_type": "markdown",
   "metadata": {},
   "source": [
    "# Grading\n",
    "1 Point for correctly changing the boolean in Part A\n",
    "1 Point for using Compound Assigment Operators in Part B\n",
    "1 Point for Values reseting when one hits 10 points\n",
    "1 Point for Passing Arguments through Part B"
   ]
  }
 ],
 "metadata": {
  "kernelspec": {
   "display_name": "Java",
   "language": "java",
   "name": "java"
  },
  "language_info": {
   "name": "java"
  },
  "orig_nbformat": 4
 },
 "nbformat": 4,
 "nbformat_minor": 2
}

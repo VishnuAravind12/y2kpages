{
 "cells": [
  {
   "cell_type": "markdown",
   "metadata": {},
   "source": [
    "---\n",
    "toc: true\n",
    "comments: true\n",
    "layout: post\n",
    "title: Unit 1 Lesson\n",
    "description: the lesson for the unit 1\n",
    "permalink: /lesson\n",
    "courses: { csa: {week: '7'} }\n",
    "type: hacks\n",
    "---"
   ]
  },
  {
   "cell_type": "markdown",
   "metadata": {},
   "source": [
    "# SECTION 1.1\n",
    "\n",
    "## Why does java matter?\n",
    "\n",
    "one of the main reason that java is such an important language in the coding world is because it is a object-oriented-programming (OOP) language. \n",
    "\n",
    "it offers a structure that is easy to solve big problems. but i think that we all know that so lets skip to the real deal. \n",
    "\n",
    "\n",
    "## Basics of Java\n",
    "\n",
    "- Block Comments- The compiler will ignore any text between /* and */\n",
    "\n",
    "- line comments- Same as above but // ignores one line\n",
    "\n",
    "- Class Declaration - identifies the name, the start and the end of the class. <b> the class name must match the file name. (case sensitive) </b>\n",
    "\n",
    "- main Method- controls all of the action in the program. \n",
    "\n",
    "- system.out- objects that generate output to the console\n",
    "\n",
    "- system.out.print- prints what ever you out inside the ()\n",
    "\n",
    "- system.out.println- prints whatever is one the screen and moves to the next line to print out the next action. basically hits enter after it prints out. \n",
    "\n",
    "\n",
    "\n",
    "tip: add \"`<classname>.main(null)`\" at the end of your code to see the output in your jupyter notebook. "
   ]
  },
  {
   "cell_type": "code",
   "execution_count": 1,
   "metadata": {
    "vscode": {
     "languageId": "java"
    }
   },
   "outputs": [
    {
     "name": "stdout",
     "output_type": "stream",
     "text": [
      "Hello, World!\n",
      "Hello, World!"
     ]
    }
   ],
   "source": [
    "/* this is a\n",
    "   code block */\n",
    "\n",
    "\n",
    "// code: printing out hello world. \n",
    "\n",
    "public class greeting {\n",
    "    public static void main (String [] args) {\n",
    "\n",
    "        System.out.println(\"Hello, World!\");\n",
    "        System.out.print(\"Hello,\");\n",
    "        System.out.print(\" World!\"); \n",
    "    }\n",
    "}\n",
    "\n",
    "greeting.main(null)"
   ]
  },
  {
   "cell_type": "markdown",
   "metadata": {},
   "source": [
    "## What is a string literal?\n",
    "\n",
    "- any sequence of letters, numbers, or symbols that is put between quotes. \n",
    "- java will put out anything in the quotes, no restrictions. \n",
    "\n",
    "Examples: "
   ]
  },
  {
   "cell_type": "code",
   "execution_count": 2,
   "metadata": {
    "vscode": {
     "languageId": "java"
    }
   },
   "outputs": [
    {
     "name": "stdout",
     "output_type": "stream",
     "text": [
      "This is a string literal.\n",
      "and so are these\n",
      "1234567890\n",
      "&^&*%^$&%$#^%W#*^$%&(*^)\n"
     ]
    }
   ],
   "source": [
    "public class stingLiterals {\n",
    "    public static void main (String [] args) {\n",
    "\n",
    "        System.out.println(\"This is a string literal.\");\n",
    "        System.out.println(\"and so are these\");\n",
    "        System.out.println(\"1234567890\"); \n",
    "        System.out.println(\"&^&*%^$&%$#^%W#*^$%&(*^)\"); \n",
    "    }\n",
    "}\n",
    "\n",
    "stingLiterals.main(null)"
   ]
  },
  {
   "cell_type": "markdown",
   "metadata": {},
   "source": [
    "## ERRORS!!!!!!\n",
    "### Syntax/compiler error:\n",
    "\n",
    "- messed up syntax\n",
    "- compiler is not happy >:("
   ]
  },
  {
   "cell_type": "code",
   "execution_count": 3,
   "metadata": {
    "vscode": {
     "languageId": "java"
    }
   },
   "outputs": [
    {
     "ename": "CompilationException",
     "evalue": "",
     "output_type": "error",
     "traceback": [
      "\u001b[1m\u001b[30m|   \u001b[1m\u001b[30m        System.out.println(\"This is a syntax error.\")\u001b[0m\u001b[1m\u001b[30m\u001b[41m\u001b[0m\u001b[1m\u001b[30m\u001b[0m",
      "\u001b[1m\u001b[31m';' expected\u001b[0m",
      ""
     ]
    }
   ],
   "source": [
    "\n",
    "public class syntaxError {\n",
    "    public static void main (String [] args) {\n",
    "\n",
    "        System.out.println(\"This is a syntax error.\")\n",
    "        //missing semicolon\n",
    "    }\n",
    "}\n",
    "\n",
    "syntaxError.main(null)"
   ]
  },
  {
   "cell_type": "markdown",
   "metadata": {},
   "source": [
    "### Logic Error\n",
    "\n",
    "- compiler is happy\n",
    "- messed up in the string literals\n",
    "- code works perfectly"
   ]
  },
  {
   "cell_type": "code",
   "execution_count": 4,
   "metadata": {
    "vscode": {
     "languageId": "java"
    }
   },
   "outputs": [
    {
     "name": "stdout",
     "output_type": "stream",
     "text": [
      "This is a leogic error.\n"
     ]
    }
   ],
   "source": [
    "public class logicError {\n",
    "    public static void main (String [] args) {\n",
    "\n",
    "        System.out.println(\"This is a leogic error.\");\n",
    "\n",
    "    }\n",
    "}\n",
    "\n",
    "logicError.main(null)"
   ]
  },
  {
   "cell_type": "markdown",
   "metadata": {},
   "source": [
    "### exception error: \n",
    "- a number is divided by zero. "
   ]
  },
  {
   "cell_type": "code",
   "execution_count": 6,
   "metadata": {
    "vscode": {
     "languageId": "java"
    }
   },
   "outputs": [
    {
     "name": "stderr",
     "output_type": "stream",
     "text": [
      "java.lang.ArithmeticException: / by zero\n",
      "\tat REPL.$JShell$20$exceptionError.main($JShell$20.java:19)\n",
      "\tat REPL.$JShell$21.do_it$($JShell$21.java:16)\n",
      "\tat java.base/jdk.internal.reflect.DirectMethodHandleAccessor.invoke(DirectMethodHandleAccessor.java:104)\n",
      "\tat java.base/java.lang.reflect.Method.invoke(Method.java:578)\n",
      "\tat io.github.spencerpark.ijava.execution.IJavaExecutionControl.lambda$execute$1(IJavaExecutionControl.java:95)\n",
      "\tat java.base/java.util.concurrent.FutureTask.run(FutureTask.java:317)\n",
      "\tat java.base/java.util.concurrent.ThreadPoolExecutor.runWorker(ThreadPoolExecutor.java:1144)\n",
      "\tat java.base/java.util.concurrent.ThreadPoolExecutor$Worker.run(ThreadPoolExecutor.java:642)\n",
      "\tat java.base/java.lang.Thread.run(Thread.java:1623)\n"
     ]
    }
   ],
   "source": [
    "public class exceptionError {\n",
    "    public static void main(String[] args) {\n",
    "        try {\n",
    "\n",
    "            int result = 2 / 0;\n",
    "            System.out.println(\"Result: \" + result);\n",
    "        } catch (ArithmeticException e) {  //this just makes the error more verbose\n",
    "            e.printStackTrace();\n",
    "        }\n",
    "    }\n",
    "}\n",
    "exceptionError.main(null)\n"
   ]
  },
  {
   "cell_type": "markdown",
   "metadata": {},
   "source": [
    "______\n",
    "\n",
    "# SECTION 1.2\n",
    "## Variable and Data Types.  \n",
    "\n",
    "## Primitive Data\n",
    "- determines the size and type of data can we can worth with in a java program. \n",
    "- focus on three different types that can we can represent data. \n",
    "\n",
    "\n",
    "#### Smallest to biggest:\n",
    "\n",
    "Boolean, takes up 1 bit. \n",
    "- true or false\n",
    "\n",
    "\n",
    "Int, take up 32 bit\n",
    "- whole number values.\n",
    "- add, subtract, multiply, etc. \n",
    "\n",
    "Doubles, AKA Floating point numbers. 64 bit\n",
    "- same as integers\n",
    "\n",
    "String\n",
    "- \"Hello World!\"\n",
    "\n",
    "\n",
    "\n",
    "Reference Purposes\n",
    "\n",
    "(the collegeboard person used bows as reference so will i.)\n",
    "- there can be small bow\n",
    "- a medium bow\n",
    "- a red bow\n",
    "- a large red bow\n",
    "\n",
    "\n",
    "\n",
    "### What is the difference?\n",
    "\n",
    "- primitive data are already in java, you don't have to make it. Except for string, which is created by the programmer. \n",
    "- non-primitive data can be use methods to perform actions, but primitive data cannot. \n",
    "\n"
   ]
  },
  {
   "cell_type": "markdown",
   "metadata": {},
   "source": [
    "\n",
    "## Primitive Activity\n",
    "#### MIX&MATCH\n",
    "\n",
    "\n",
    "```\n",
    "Choices:\n",
    "1. int\n",
    "2. double\n",
    "3. boolean\n",
    "4. String\n",
    "\n",
    "\n",
    "\n",
    "__ False\n",
    "\n",
    "__ \"ryan gosling\"\n",
    "\n",
    "__ 1738\n",
    "\n",
    "__ 4.26\n",
    "```\n",
    "\n",
    "#### Questions:\n",
    "\n",
    "what type of data should be used to store\n",
    "\n",
    "- someones bank number and cvc?\n",
    "\n",
    "- someones mother's maiden name and their name?\n",
    "\n",
    "- the first 16 digits of pi\n",
    "\n",
    "- if you want to transact one million $. \n",
    "\n"
   ]
  },
  {
   "cell_type": "markdown",
   "metadata": {},
   "source": [
    "## Variables\n",
    "\n",
    "A name given to a memory location that is holding a specified type of value.\n",
    "\n",
    "### how to name a variable (omg this is so hard !)\n",
    "\n",
    "- may consists of letters, digits, or an underscore (case sensitive)\n",
    "\n",
    "- may not start with a digit\n",
    "- space are a big no no\n",
    "- may not use other characters as &,@, or #\n",
    "- may not used java reserved words\n",
    "\n",
    "\n",
    "#### Tip!\n",
    "\n",
    "use camel casing when naming a variables.\n",
    "\n",
    "#### example: \n",
    "\n",
    "thisIsCamelCasing\n",
    "\n",
    "\n",
    "\n",
    "### Declare variables:\n",
    "\n",
    "The three primitiva data types in Java:\n",
    "- integers (whole #): `int`\n",
    "- Decimal numbers (floating-point values): `double`\n",
    "- Boolean values (true/false): `boolean`\n",
    "\n",
    "\n",
    "#### Format:\n",
    "\n",
    "dataType varibleName;\n",
    "\n",
    "#### Example\n",
    "\n",
    "`int total;`\n",
    "\n",
    "`boolean outcome;`\n",
    "\n",
    "`double firstFifteenPi;`\n",
    "\n",
    "\n",
    "### what if you don't want to change the variable's value after given?\n",
    "\n",
    "add final in front of the declaration:\n",
    "\n",
    "`final double PI;`\n",
    "\n",
    "`final boolean WORKOUT_DECISION; `\n",
    "\n",
    "for final variables, use all caps and underscore when naming them. \n",
    "\n"
   ]
  },
  {
   "cell_type": "markdown",
   "metadata": {},
   "source": [
    "## Practice\n",
    "\n",
    "### Find the odd one out.\n",
    "\n",
    "\n",
    "int value; \n",
    "\n",
    "double 4eva;\n",
    "\n",
    "boolean private;\n",
    "\n",
    "integer sum;\n",
    "\n",
    "double wow!; \n",
    "\n",
    "boolean foundIt; \n",
    "\n",
    "int numberOfStudents; \n",
    "\n",
    "double chanceOfRain;\n",
    "\n",
    "boolean #mortNews;\n",
    "\n",
    "int count;\n",
    "\n",
    "bool isFriday; \n",
    "\n",
    "final int DOZEN;\n"
   ]
  },
  {
   "cell_type": "markdown",
   "metadata": {},
   "source": [
    "## 1.3 Main Topics\n",
    "### Literal vs String Literal\n",
    "\n",
    "### Arithmetic operators\n",
    "- Additon\n",
    "- Minus\n",
    "- Multiply\n",
    "- Divide\n",
    "- Mod\n",
    "\n",
    "### Arthemtic expressions\n",
    "- Int\n",
    "- Double\n",
    "    \n",
    "### Assigment Operator\n",
    "- = vs ==\n",
    "\n",
    "# Demo 1"
   ]
  },
  {
   "cell_type": "code",
   "execution_count": null,
   "metadata": {
    "vscode": {
     "languageId": "java"
    }
   },
   "outputs": [],
   "source": [
    "public class demo {\n",
    "    public static void main(String[] args) {\n",
    "        // Whats is the outputs between these two pieces of code\n",
    "        //\n",
    "        //\n",
    "        //\n",
    "        \n",
    "        /* \n",
    "        System.out.println(\"3\" + \"3\");\n",
    "        System.out.println(3 / 2);\n",
    "        System.out.println(2.0 * 1.5);\n",
    "        */\n",
    "    }\n",
    "}\n",
    "\n",
    "demo.main(null);"
   ]
  },
  {
   "cell_type": "markdown",
   "metadata": {},
   "source": [
    "# Cheat Sheet\n",
    "\n",
    "## Literal\n",
    "- The source code representation of a fixed value\n",
    "\n",
    "## String Literal\n",
    "- Something enclosed in double qoutes\n",
    "\n",
    "\n",
    "## Assigment Operator\n",
    "- = is an assigment operator\n",
    "- == is repesents just normal =\n",
    "- Assigment Operators moves right to left\n",
    "- X = Y = Z = 2;\n",
    "- Why is 7 = x; a non valid peice of code\n",
    "- \n",
    "\n",
    "## PEMDAS\n",
    "- Java uses PEMDAS still but a tiny bit different\n",
    "\n",
    "### Order\n",
    "1. ()\n",
    "2. ^\n",
    "3. *, /, %\n",
    "4. +, -\n",
    "\n",
    "## Primative Data Types\n",
    "![img](http://orion.towson.edu/~izimand/237/LectureNotes/L3-PrimitiveDataTypes.JPG)\n",
    "\n",
    "## Operation vs Result\n",
    "- The bigger data type will always be the resulting output\n",
    "- If you were to add a double and a int what would be the result?\n",
    "- \n",
    "\n",
    "# Demo 2"
   ]
  },
  {
   "cell_type": "code",
   "execution_count": null,
   "metadata": {
    "vscode": {
     "languageId": "java"
    }
   },
   "outputs": [],
   "source": [
    "public class demo2 {\n",
    "    public static void main(String[] args) {\n",
    "        // Print a math equation that goes through these steps\n",
    "        // Adds 19 + 134\n",
    "        // Multiplies that value by 5\n",
    "        // Then takes the mod of that value by 2\n",
    "        // It should print 1\n",
    "\n",
    "        System.out.println( (19 + 134) * 5 % 2);\n",
    "    }\n",
    "}\n",
    "\n",
    "demo2.main(null);"
   ]
  },
  {
   "cell_type": "markdown",
   "metadata": {},
   "source": [
    "# Odd Even"
   ]
  },
  {
   "cell_type": "code",
   "execution_count": null,
   "metadata": {
    "vscode": {
     "languageId": "java"
    }
   },
   "outputs": [],
   "source": [
    "public class OddEven {\n",
    "\n",
    "    // Without changing any varibles\n",
    "    // Print only odd numbers\n",
    "\n",
    "    public static void main(String[] args) {\n",
    "        int num = 2;\n",
    "        int i = 0;\n",
    "        while (i <= 10) {\n",
    "            if (i % num == 0) {\n",
    "                System.out.println(i + \" is even\");\n",
    "            }\n",
    "            i++;\n",
    "        }\n",
    "    }\n",
    "}\n",
    "\n",
    "OddEven.main(null);"
   ]
  },
  {
   "cell_type": "markdown",
   "metadata": {},
   "source": [
    "## Mini Hacks\n",
    "- Complete all uncompleted code segments\n",
    "- Answer all questions in the code\n",
    "- complete the activities in the lesson blogs\n",
    "- will be scaled to 0.2 depending on the completion of your code\n",
    "\n",
    "## Main Hack\n",
    "- Use topics from 3 out of 4 of the Units\n",
    "- It has to be a 2 part style question, A and B\n",
    "- Will Be graded out of 4 points\n",
    "- Write a scoring sheet for what you have done out six points\n",
    "- Your real grade for the assigment will be based of two things\n",
    "- How creative, unique, cool your question and code is\n",
    "- Did you acheive 4/4 points for your code\n",
    "- That will be scaled to 0.8 of 1 for all your hacks\n",
    "\n",
    "## Example FRQ 0.65\n",
    "### Question:\n",
    "Winner of the game is represented by gameWin. Player 1 score is represented by int variable x, and Player 2 score is represented by int variable y\n"
   ]
  },
  {
   "cell_type": "code",
   "execution_count": null,
   "metadata": {
    "vscode": {
     "languageId": "java"
    }
   },
   "outputs": [],
   "source": [
    "public class Game {\n",
    "    int x = 0;\n",
    "    int y = 0;\n",
    "\n",
    "    boolean XgameWin = false;\n",
    "    boolean YgameWin = false;\n",
    "}"
   ]
  },
  {
   "cell_type": "markdown",
   "metadata": {},
   "source": [
    "# PART A\n",
    "write a method gameWinchange that checks who wins"
   ]
  },
  {
   "cell_type": "code",
   "execution_count": null,
   "metadata": {
    "vscode": {
     "languageId": "java"
    }
   },
   "outputs": [],
   "source": [
    "public class Game {\n",
    "    int x = 0;\n",
    "    int y = 0;\n",
    "\n",
    "    boolean XgameWin = false;\n",
    "    boolean YgameWin = false;\n",
    "\n",
    "    public void gameWinchange(boolean X, boolean Y) {\n",
    "        //insert code here\n",
    "        if (X == true) {\n",
    "            UpdateScore(x,y);\n",
    "            X = true;\n",
    "        } else {\n",
    "            UpdateScore(y,x);\n",
    "            Y = true;\n",
    "        }\n",
    "    }\n",
    "}"
   ]
  },
  {
   "cell_type": "markdown",
   "metadata": {},
   "source": [
    "# Part B\n",
    "Write a method to update score for Player 1 and Player 2, The player that wins gain a point, the player that loses minus a point\n",
    "If a player hits 10 points, reset values"
   ]
  },
  {
   "cell_type": "code",
   "execution_count": null,
   "metadata": {
    "vscode": {
     "languageId": "java"
    }
   },
   "outputs": [],
   "source": [
    "public class Game {\n",
    "    \n",
    "    private \n",
    "\n",
    "    public int UpdateScore(int Wscore, int Lscore) {\n",
    "        Wscore += 1;\n",
    "        Lscore -= 1;\n",
    "\n",
    "        if (Wscore == 10) {\n",
    "            Wscore = 0;\n",
    "            Lscore = 0;\n",
    "        }\n",
    "        if (Lscore == 10) {\n",
    "            Wscore = 0;\n",
    "            Lscore = 0;\n",
    "        }\n",
    "    }\n",
    "}"
   ]
  },
  {
   "cell_type": "markdown",
   "metadata": {},
   "source": [
    "# Grading\n",
    "1 Point for correctly changing the boolean in Part A\n",
    "1 Point for using Compound Assigment Operators in Part B\n",
    "1 Point for Values reseting when one hits 10 points\n",
    "1 Point for Passing Arguments through Part A and B"
   ]
  }
 ],
 "metadata": {
  "kernelspec": {
   "display_name": "Java",
   "language": "java",
   "name": "java"
  },
  "language_info": {
   "codemirror_mode": "java",
   "file_extension": ".jshell",
   "mimetype": "text/x-java-source",
   "name": "Java",
   "pygments_lexer": "java",
   "version": "20+36-2344"
  },
  "orig_nbformat": 4
 },
 "nbformat": 4,
 "nbformat_minor": 2
}
